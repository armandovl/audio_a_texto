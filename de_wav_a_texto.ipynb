{
  "nbformat": 4,
  "nbformat_minor": 0,
  "metadata": {
    "colab": {
      "name": "de wav a texto.ipynb",
      "provenance": [],
      "authorship_tag": "ABX9TyPQQhDaRCiHOll4NvQRGZl9",
      "include_colab_link": true
    },
    "kernelspec": {
      "name": "python3",
      "display_name": "Python 3"
    }
  },
  "cells": [
    {
      "cell_type": "markdown",
      "metadata": {
        "id": "view-in-github",
        "colab_type": "text"
      },
      "source": [
        "<a href=\"https://colab.research.google.com/github/armandovl/audio_a_texto/blob/main/de_wav_a_texto.ipynb\" target=\"_parent\"><img src=\"https://colab.research.google.com/assets/colab-badge.svg\" alt=\"Open In Colab\"/></a>"
      ]
    },
    {
      "cell_type": "code",
      "metadata": {
        "id": "rxMnTQ1onkrC"
      },
      "source": [
        "!pip install SpeechRecognition #instalar la biblioteca de reconocimiento del mensaje"
      ],
      "execution_count": null,
      "outputs": []
    },
    {
      "cell_type": "code",
      "metadata": {
        "id": "2_jnBs0wnoLe"
      },
      "source": [
        "import speech_recognition as sr #importamos la biblioteca como sr "
      ],
      "execution_count": null,
      "outputs": []
    },
    {
      "cell_type": "code",
      "metadata": {
        "id": "s21Ykcjanto7"
      },
      "source": [
        "r=sr.Recognizer() #creamos una instancia reconocedora"
      ],
      "execution_count": null,
      "outputs": []
    },
    {
      "cell_type": "code",
      "metadata": {
        "id": "5cWH32GfnyI8"
      },
      "source": [
        "audio_file=sr.AudioFile(\"copro1.wav\") #llamamos el archivo con la instancia audio file"
      ],
      "execution_count": null,
      "outputs": []
    },
    {
      "cell_type": "code",
      "metadata": {
        "id": "eoCUSOcxn6ow"
      },
      "source": [
        "with audio_file as source: #ponemos el arhivo como fuente\n",
        "  audio = r.record(source) #"
      ],
      "execution_count": null,
      "outputs": []
    },
    {
      "cell_type": "code",
      "metadata": {
        "id": "WenApFIsoXqK"
      },
      "source": [
        "text_1=r.recognize_google(audio, language='es-MX')"
      ],
      "execution_count": null,
      "outputs": []
    },
    {
      "cell_type": "code",
      "metadata": {
        "id": "DGWOJ9dmvU1w"
      },
      "source": [
        "print(text_1)"
      ],
      "execution_count": null,
      "outputs": []
    }
  ]
}