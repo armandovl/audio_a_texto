{
  "nbformat": 4,
  "nbformat_minor": 0,
  "metadata": {
    "kernelspec": {
      "display_name": "Python 3",
      "language": "python",
      "name": "python3"
    },
    "language_info": {
      "codemirror_mode": {
        "name": "ipython",
        "version": 3
      },
      "file_extension": ".py",
      "mimetype": "text/x-python",
      "name": "python",
      "nbconvert_exporter": "python",
      "pygments_lexer": "ipython3",
      "version": "3.7.3"
    },
    "colab": {
      "name": "de mp3 a texto.ipynb",
      "provenance": [],
      "collapsed_sections": [],
      "include_colab_link": true
    }
  },
  "cells": [
    {
      "cell_type": "markdown",
      "metadata": {
        "id": "view-in-github",
        "colab_type": "text"
      },
      "source": [
        "<a href=\"https://colab.research.google.com/github/armandovl/audio_a_texto/blob/main/de_mp3_a_texto.ipynb\" target=\"_parent\"><img src=\"https://colab.research.google.com/assets/colab-badge.svg\" alt=\"Open In Colab\"/></a>"
      ]
    },
    {
      "cell_type": "code",
      "metadata": {
        "id": "CkEpoUlVlYXG"
      },
      "source": [
        "!pip install pydub #instalar la biblioteca para transformar"
      ],
      "execution_count": null,
      "outputs": []
    },
    {
      "cell_type": "code",
      "metadata": {
        "id": "FGvXn7mYlmF8"
      },
      "source": [
        "from pydub import AudioSegment  #cambiar el formato"
      ],
      "execution_count": null,
      "outputs": []
    },
    {
      "cell_type": "code",
      "metadata": {
        "id": "nE-wMkP5kz8J"
      },
      "source": [
        "\n",
        "\n",
        "# convert mp3 file to wav                                                       \n",
        "sound = AudioSegment.from_mp3(\"maroon.mp3\")\n",
        "sound.export(\"transcript2.wav\", format=\"wav\")\n",
        "\n",
        "\n",
        "# transcribe audio file                                                         \n",
        "AUDIO_FILE = \"transcript2.wav\""
      ],
      "execution_count": null,
      "outputs": []
    },
    {
      "cell_type": "markdown",
      "metadata": {
        "id": "2sBIuw0zkzUv"
      },
      "source": [
        "### 1.-Instalar las bibliotecas"
      ]
    },
    {
      "cell_type": "code",
      "metadata": {
        "id": "s3KOwGdBu619"
      },
      "source": [
        "!pip install SpeechRecognition"
      ],
      "execution_count": null,
      "outputs": []
    },
    {
      "cell_type": "code",
      "metadata": {
        "id": "65TnfXqouNGq"
      },
      "source": [
        "import speech_recognition as sr"
      ],
      "execution_count": null,
      "outputs": []
    },
    {
      "cell_type": "markdown",
      "metadata": {
        "id": "Mf4Cb5U3uNGu"
      },
      "source": [
        "# 1 Crear instancia de Reconomiento"
      ]
    },
    {
      "cell_type": "code",
      "metadata": {
        "id": "RAS22wEpuNGv"
      },
      "source": [
        "r = sr.Recognizer()"
      ],
      "execution_count": null,
      "outputs": []
    },
    {
      "cell_type": "markdown",
      "metadata": {
        "id": "wY_SPoHxuNGx"
      },
      "source": [
        "# 2 Seleccionar audio "
      ]
    },
    {
      "cell_type": "code",
      "metadata": {
        "id": "4KzbDzaYuNGy"
      },
      "source": [
        "# Si audio desde fichero\n",
        "audio_file = sr.AudioFile('copro1.wav') #El fichero debe estar en la ruta del intérprete de Python\n",
        "with audio_file as source:\n",
        "  #r.adjust_for_ambient_noise(source) # Calibración si el fichero tiene ruido de fondo\n",
        "  audio = r.record(source) # si solo se quiere una porción del audio: audio = r.record(source, offset=4, duration=3)"
      ],
      "execution_count": null,
      "outputs": []
    },
    {
      "cell_type": "markdown",
      "metadata": {
        "id": "DlChoKo2uNHD"
      },
      "source": [
        "# 3 Reconocer audio a través de API"
      ]
    },
    {
      "cell_type": "code",
      "metadata": {
        "id": "r-Z3z7yeuNHE"
      },
      "source": [
        "texto3=r.recognize_google(audio, language='es-MX') # Definimos la API a utilizar como método de reconocimiento, la única que no necesita login es la de Google (debemos estar conectados a internet)"
      ],
      "execution_count": null,
      "outputs": []
    },
    {
      "cell_type": "code",
      "metadata": {
        "id": "WngLqMcbuNHH"
      },
      "source": [
        "print(texto3)"
      ],
      "execution_count": null,
      "outputs": []
    },
    {
      "cell_type": "code",
      "metadata": {
        "id": "Q-3xW5bKuNHJ"
      },
      "source": [
        "# Truzz Blogg - Youtube link: https://youtu.be/q-N6IcgCqCE\n",
        "# Speech recognition in Python ::: How to convert an Audio File to Text\n",
        "\n",
        "import speech_recognition as sr\n",
        "import time\n",
        "\n",
        "r = sr.Recognizer()\n",
        "\n",
        "with sr.AudioFile('tres.wav') as source:\n",
        "    # print(\"Say Something...\")\n",
        "    audio = r.listen(source)\n",
        "\n",
        "    try:\n",
        "        print(\"Reading audio file. Please, wait a moment...\")\n",
        "        text = r.recognize_google(audio, language='es-ES')\n",
        "        time.sleep(1.5)\n",
        "        print(text)\n",
        "    except:\n",
        "        print(\"I am sorry! I can not understand!\")"
      ],
      "execution_count": null,
      "outputs": []
    }
  ]
}